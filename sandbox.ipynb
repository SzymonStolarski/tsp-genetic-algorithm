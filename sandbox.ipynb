{
 "cells": [
  {
   "cell_type": "code",
   "execution_count": 6,
   "metadata": {},
   "outputs": [],
   "source": [
    "from components.data_reader import DataReader\n",
    "cost_data = DataReader.read_txt(path='data/berlin52.txt', dlm=' ', data_type=int)\n"
   ]
  },
  {
   "cell_type": "code",
   "execution_count": 9,
   "metadata": {},
   "outputs": [],
   "source": [
    "from components.genetic_algorithm import GeneticAlgorithmTSP\n",
    "from components.genetic_algorithm import *\n",
    "\n",
    "genetic_algorithm = GeneticAlgorithmTSP(population_size=20, selector=RouletteSelector())\n",
    "base_population = genetic_algorithm.create_base_population(len(cost_data))"
   ]
  },
  {
   "cell_type": "code",
   "execution_count": 10,
   "metadata": {},
   "outputs": [
    {
     "data": {
      "text/plain": [
       "{15: 25843,\n",
       " 3: 28499,\n",
       " 19: 28801,\n",
       " 7: 28881,\n",
       " 4: 29277,\n",
       " 14: 29319,\n",
       " 12: 29500,\n",
       " 0: 29766,\n",
       " 11: 29792,\n",
       " 16: 30106,\n",
       " 17: 30295,\n",
       " 18: 30303,\n",
       " 9: 31223,\n",
       " 13: 31272,\n",
       " 10: 31624,\n",
       " 1: 31663,\n",
       " 5: 31719,\n",
       " 6: 31847,\n",
       " 2: 32371,\n",
       " 8: 33612}"
      ]
     },
     "execution_count": 10,
     "metadata": {},
     "output_type": "execute_result"
    }
   ],
   "source": [
    "evaluated = genetic_algorithm.evaluate(base_population, cost_data)\n",
    "{k: v for k, v in sorted(evaluated.items(), key=lambda item: item[1], reverse=False)}"
   ]
  },
  {
   "cell_type": "code",
   "execution_count": 16,
   "metadata": {},
   "outputs": [
    {
     "name": "stdout",
     "output_type": "stream",
     "text": [
      "[4, 5, 11, 18, 14, 17, 16, 17, 19, 16, 19, 0, 16, 0, 5, 10, 0, 6, 6, 0]\n",
      "[3, 3, 3, 0, 11, 4, 4, 12, 7, 0, 15, 15, 7, 12, 12, 7, 3, 3, 15, 11]\n",
      "[15, 3, 19, 7, 4, 14, 15, 3, 19, 7, 4, 14, 15, 3, 19, 7, 4, 14, 15, 3]\n"
     ]
    }
   ],
   "source": [
    "from components.selection import RouletteSelector, TournamentSelector, ElitismSelector\n",
    "\n",
    "rs = RouletteSelector()\n",
    "ts = TournamentSelector(k_percent=0.2)\n",
    "es = ElitismSelector(percent=0.3)\n",
    "\n",
    "\n",
    "for i in [rs, ts, es]:\n",
    "    print(i.selection(evaluated))\n"
   ]
  }
 ],
 "metadata": {
  "interpreter": {
   "hash": "1851866e6aa6553f536216226232be892807d222c2fcb4d44039f5e3d60cd39c"
  },
  "kernelspec": {
   "display_name": "Python 3.9.7 ('advprog')",
   "language": "python",
   "name": "python3"
  },
  "language_info": {
   "codemirror_mode": {
    "name": "ipython",
    "version": 3
   },
   "file_extension": ".py",
   "mimetype": "text/x-python",
   "name": "python",
   "nbconvert_exporter": "python",
   "pygments_lexer": "ipython3",
   "version": "3.9.7"
  },
  "orig_nbformat": 4
 },
 "nbformat": 4,
 "nbformat_minor": 2
}
