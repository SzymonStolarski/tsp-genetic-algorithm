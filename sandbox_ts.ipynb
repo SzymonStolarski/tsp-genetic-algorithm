{
 "cells": [
  {
   "cell_type": "code",
   "execution_count": 1,
   "metadata": {},
   "outputs": [
    {
     "name": "stdout",
     "output_type": "stream",
     "text": [
      "52\n"
     ]
    }
   ],
   "source": [
    "from components.data_reader import DataReader\n",
    "cost_data = DataReader.read_txt(path='data/berlin52.txt', dlm=' ', data_type=int)\n",
    "print(len(cost_data))"
   ]
  },
  {
   "cell_type": "code",
   "execution_count": 2,
   "metadata": {},
   "outputs": [],
   "source": [
    "from components.tsp_algorithms.tabu_search import TabuSearch\n",
    "\n",
    "ts = TabuSearch(1000000, 6, 15)"
   ]
  },
  {
   "cell_type": "code",
   "execution_count": 3,
   "metadata": {},
   "outputs": [
    {
     "name": "stdout",
     "output_type": "stream",
     "text": [
      "27358\n",
      "{2: 29694, 0: 30241, 1: 30294, 3: 30330, 5: 30361, 4: 30459}\n",
      "27358\n",
      "{5: 29227, 0: 29506, 1: 30026, 3: 30282, 2: 30313, 4: 30755}\n",
      "27358\n",
      "{3: 29684, 4: 29837, 0: 29843, 5: 30272, 1: 30388, 2: 30808}\n",
      "27358\n",
      "{3: 29042, 1: 29614, 2: 29739, 4: 30148, 5: 30271, 0: 30481}\n",
      "27358\n",
      "{2: 29660, 3: 29739, 0: 29967, 5: 30007, 4: 30121, 1: 30417}\n",
      "27358\n",
      "{0: 28464, 5: 28608, 4: 29543, 3: 30505, 2: 30765, 1: 31267}\n",
      "27358\n",
      "{1: 29149, 0: 29461, 4: 30309, 2: 30369, 3: 30750, 5: 31282}\n",
      "27358\n",
      "{5: 30268, 0: 30295, 4: 30385, 1: 30548, 2: 30700, 3: 31794}\n",
      "27358\n",
      "{5: 29674, 3: 29985, 1: 30385, 4: 30589, 2: 31196, 0: 31257}\n",
      "27358\n",
      "{3: 28461, 1: 28464, 4: 30190, 2: 30224, 5: 30351, 0: 31976}\n",
      "27358\n",
      "{3: 28926, 5: 29783, 0: 30137, 2: 30643, 1: 31335, 4: 32519}\n",
      "27358\n",
      "{5: 29701, 0: 30181, 4: 30430, 3: 30987, 2: 31507, 1: 32519}\n",
      "27358\n",
      "{3: 29574, 2: 29728, 1: 30092, 4: 30270, 5: 30334, 0: 31059}\n",
      "27358\n",
      "{1: 30227, 0: 30282, 5: 30348, 2: 30350, 3: 30435, 4: 30828}\n",
      "27358\n",
      "{2: 28751, 1: 30101, 5: 30345, 3: 30428, 4: 30454, 0: 30560}\n",
      "27358\n",
      "{2: 29530, 5: 29739, 4: 30040, 3: 30109, 1: 30594, 0: 30951}\n",
      "27358\n",
      "{0: 30197, 2: 30297, 4: 30302, 1: 30345, 5: 30400, 3: 31771}\n",
      "27358\n",
      "{5: 29985, 2: 30215, 3: 30330, 0: 30334, 1: 30900, 4: 31213}\n",
      "27358\n",
      "{3: 29214, 5: 29528, 0: 29726, 4: 30388, 2: 30419, 1: 31539}\n",
      "27358\n",
      "{4: 29684, 2: 30007, 1: 30101, 3: 30386, 0: 30904, 5: 31794}\n",
      "27358\n",
      "{0: 30273, 4: 30275, 1: 30302, 2: 30315, 3: 30498, 5: 30671}\n",
      "27358\n",
      "{1: 29914, 5: 29971, 0: 30237, 2: 30270, 4: 30359, 3: 30522}\n",
      "27358\n",
      "{4: 28926, 2: 29680, 0: 29909, 1: 30313, 5: 30324, 3: 30480}\n",
      "27358\n",
      "{4: 28303, 2: 29726, 0: 30222, 3: 30252, 5: 30312, 1: 30359}\n",
      "27358\n",
      "{4: 29214, 3: 29454, 2: 29677, 5: 30621, 1: 31297, 0: 31323}\n",
      "27358\n",
      "{4: 30043, 0: 30242, 3: 30401, 2: 30494, 1: 30799, 5: 31205}\n",
      "27358\n",
      "{4: 29591, 5: 30332, 1: 30393, 3: 30430, 2: 30752, 0: 30841}\n",
      "27358\n",
      "{0: 29642, 3: 30095, 5: 30160, 4: 30309, 2: 30541, 1: 30554}\n",
      "27358\n",
      "{1: 29214, 5: 29220, 4: 30315, 2: 30541, 3: 31056, 0: 31216}\n",
      "27358\n",
      "{1: 29810, 4: 30124, 2: 30139, 0: 30252, 3: 30480, 5: 30554}\n",
      "27358\n",
      "{2: 29831, 3: 29901, 5: 30144, 1: 30456, 0: 30630, 4: 30957}\n",
      "27358\n",
      "{3: 29774, 5: 29896, 1: 29925, 4: 29977, 2: 30252, 0: 31042}\n",
      "27358\n",
      "{3: 29483, 4: 29666, 2: 30277, 0: 30377, 5: 30422, 1: 30647}\n",
      "27358\n",
      "{0: 29614, 1: 29867, 3: 30052, 4: 30258, 5: 30377, 2: 30401}\n",
      "27358\n",
      "{0: 29043, 2: 30152, 3: 30272, 1: 30357, 5: 30463, 4: 30762}\n",
      "27358\n",
      "{1: 29591, 2: 30197, 5: 30227, 4: 30403, 3: 31037, 0: 31161}\n",
      "27358\n",
      "{1: 30152, 5: 30364, 4: 30372, 3: 30411, 0: 30986, 2: 31198}\n",
      "27358\n",
      "{5: 29214, 2: 29727, 4: 29841, 0: 30221, 3: 30367, 1: 30905}\n",
      "27358\n",
      "{3: 29450, 4: 30011, 0: 30044, 2: 30235, 5: 30255, 1: 30571}\n",
      "27358\n",
      "{2: 29969, 0: 30147, 3: 30240, 4: 30250, 1: 30294, 5: 30331}\n",
      "27358\n",
      "{2: 29628, 0: 30497, 4: 30577, 1: 30616, 5: 30773, 3: 30914}\n",
      "27358\n",
      "{5: 29226, 3: 29330, 4: 30268, 1: 30314, 0: 30378, 2: 30893}\n",
      "27358\n",
      "{4: 29390, 5: 30437, 0: 30512, 1: 30710, 3: 30810, 2: 30905}\n",
      "27358\n",
      "{5: 29943, 3: 30026, 1: 30272, 4: 30448, 0: 30593, 2: 31619}\n",
      "27358\n",
      "{0: 29632, 4: 29917, 1: 30411, 2: 30419, 3: 30647, 5: 31024}\n",
      "27358\n",
      "{0: 27799, 5: 29635, 1: 30272, 4: 30389, 2: 30396, 3: 30878}\n",
      "27358\n",
      "{4: 29881, 1: 30304, 5: 30441, 2: 30749, 3: 31771, 0: 32080}\n",
      "27358\n",
      "{5: 29718, 3: 29845, 1: 29918, 2: 30519, 0: 30805, 4: 30828}\n",
      "27358\n",
      "{1: 29886, 5: 30228, 3: 30346, 4: 30376, 0: 30477, 2: 30624}\n",
      "27358\n",
      "{1: 30087, 3: 30114, 0: 30281, 4: 30454, 5: 30485, 2: 31213}\n",
      "27358\n",
      "{1: 29251, 3: 29840, 0: 30147, 2: 30224, 5: 31007, 4: 31267}\n"
     ]
    },
    {
     "ename": "KeyboardInterrupt",
     "evalue": "",
     "output_type": "error",
     "traceback": [
      "\u001b[1;31m---------------------------------------------------------------------------\u001b[0m",
      "\u001b[1;31mKeyboardInterrupt\u001b[0m                         Traceback (most recent call last)",
      "\u001b[1;32mC:\\Users\\SZYMON~1.STO\\AppData\\Local\\Temp/ipykernel_7720/430109143.py\u001b[0m in \u001b[0;36m<module>\u001b[1;34m\u001b[0m\n\u001b[1;32m----> 1\u001b[1;33m \u001b[0mts\u001b[0m\u001b[1;33m.\u001b[0m\u001b[0mlearn\u001b[0m\u001b[1;33m(\u001b[0m\u001b[0mcost_data\u001b[0m\u001b[1;33m)\u001b[0m\u001b[1;33m\u001b[0m\u001b[1;33m\u001b[0m\u001b[0m\n\u001b[0m",
      "\u001b[1;32mf:\\OneDrive - Uniwersytet Ekonomiczny w Katowicach\\mgr\\seminarium_mgr\\tsp-genetic-algorithm\\components\\tsp_algorithms\\tabu_search.py\u001b[0m in \u001b[0;36mlearn\u001b[1;34m(self, cost_matrix)\u001b[0m\n\u001b[0;32m     44\u001b[0m \u001b[1;33m\u001b[0m\u001b[0m\n\u001b[0;32m     45\u001b[0m             \u001b[1;31m# evaluate the list of candidates\u001b[0m\u001b[1;33m\u001b[0m\u001b[1;33m\u001b[0m\u001b[0m\n\u001b[1;32m---> 46\u001b[1;33m             \u001b[0mevaluated_candidates\u001b[0m \u001b[1;33m=\u001b[0m \u001b[0mevaluate\u001b[0m\u001b[1;33m(\u001b[0m\u001b[0mcandidate_list\u001b[0m\u001b[1;33m,\u001b[0m \u001b[0mcost_matrix\u001b[0m\u001b[1;33m)\u001b[0m\u001b[1;33m\u001b[0m\u001b[1;33m\u001b[0m\u001b[0m\n\u001b[0m\u001b[0;32m     47\u001b[0m            \u001b[1;31m# print(f'candidate_list: {candidate_list}')\u001b[0m\u001b[1;33m\u001b[0m\u001b[1;33m\u001b[0m\u001b[0m\n\u001b[0;32m     48\u001b[0m            \u001b[1;31m# print(f'tabu_pretenders: {tabu_pretenders}')\u001b[0m\u001b[1;33m\u001b[0m\u001b[1;33m\u001b[0m\u001b[0m\n",
      "\u001b[1;32mf:\\OneDrive - Uniwersytet Ekonomiczny w Katowicach\\mgr\\seminarium_mgr\\tsp-genetic-algorithm\\components\\evaluate\\tsp_evaluate.py\u001b[0m in \u001b[0;36mevaluate\u001b[1;34m(population, cost_matrix)\u001b[0m\n\u001b[0;32m     13\u001b[0m                 \u001b[1;32mcontinue\u001b[0m\u001b[1;33m\u001b[0m\u001b[1;33m\u001b[0m\u001b[0m\n\u001b[0;32m     14\u001b[0m \u001b[1;33m\u001b[0m\u001b[0m\n\u001b[1;32m---> 15\u001b[1;33m             \u001b[0mcoordinates\u001b[0m \u001b[1;33m=\u001b[0m \u001b[1;33m[\u001b[0m\u001b[0mvalues\u001b[0m\u001b[1;33m[\u001b[0m\u001b[0midx\u001b[0m\u001b[1;33m-\u001b[0m\u001b[1;36m1\u001b[0m\u001b[1;33m]\u001b[0m\u001b[1;33m,\u001b[0m \u001b[0mvalues\u001b[0m\u001b[1;33m[\u001b[0m\u001b[0midx\u001b[0m\u001b[1;33m]\u001b[0m\u001b[1;33m]\u001b[0m\u001b[1;33m\u001b[0m\u001b[1;33m\u001b[0m\u001b[0m\n\u001b[0m\u001b[0;32m     16\u001b[0m             \u001b[0mcoordinates_list\u001b[0m\u001b[1;33m.\u001b[0m\u001b[0mappend\u001b[0m\u001b[1;33m(\u001b[0m\u001b[0mcoordinates\u001b[0m\u001b[1;33m)\u001b[0m\u001b[1;33m\u001b[0m\u001b[1;33m\u001b[0m\u001b[0m\n\u001b[0;32m     17\u001b[0m \u001b[1;33m\u001b[0m\u001b[0m\n",
      "\u001b[1;31mKeyboardInterrupt\u001b[0m: "
     ]
    }
   ],
   "source": [
    "ts.learn(cost_data)"
   ]
  },
  {
   "cell_type": "code",
   "execution_count": 4,
   "metadata": {},
   "outputs": [
    {
     "data": {
      "image/png": "[encoded data removed]",
      "text/plain": [
       "<Figure size 432x288 with 1 Axes>"
      ]
     },
     "metadata": {
      "needs_background": "light"
     },
     "output_type": "display_data"
    }
   ],
   "source": [
    "import matplotlib.pyplot as plt\n",
    "plt.plot(ts.results.keys(), ts.results.values())\n",
    "plt.show()"
   ]
  }
 ],
 "metadata": {
  "kernelspec": {
   "display_name": "Python 3.9.7 ('advprog')",
   "language": "python",
   "name": "python3"
  },
  "language_info": {
   "codemirror_mode": {
    "name": "ipython",
    "version": 3
   },
   "file_extension": ".py",
   "mimetype": "text/x-python",
   "name": "python",
   "nbconvert_exporter": "python",
   "pygments_lexer": "ipython3",
   "version": "3.9.7"
  },
  "orig_nbformat": 4,
  "vscode": {
   "interpreter": {
    "hash": "3896fc8db815e5c8c540d8ed48ae5d1761aa8c28483760414d9b0f3d0e72d903"
   }
  }
 },
 "nbformat": 4,
 "nbformat_minor": 2
}
